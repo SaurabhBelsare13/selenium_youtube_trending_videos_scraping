{
 "cells": [
  {
   "cell_type": "code",
   "execution_count": 9,
   "id": "c96e1450",
   "metadata": {},
   "outputs": [],
   "source": [
    "import selenium\n",
    "from selenium import webdriver\n",
    "from selenium.webdriver.chrome.options import Options\n",
    "from selenium.webdriver.common.keys import Keys\n",
    "from selenium.webdriver.common.by import By\n",
    "\n",
    "import pandas as pd\n",
    "import smtplib\n",
    "import getpass"
   ]
  },
  {
   "cell_type": "code",
   "execution_count": 2,
   "id": "2615d2ba",
   "metadata": {},
   "outputs": [],
   "source": [
    "YOUTUBE_TRENDING_URL = \"https://www.youtube.com/feed/trending\""
   ]
  },
  {
   "cell_type": "code",
   "execution_count": 3,
   "id": "a23c55f9",
   "metadata": {},
   "outputs": [],
   "source": [
    "path =\"C:\\\\Users\\\\saura\\\\Downloads\\\\chromedriver_win32\\\\chromedriver.exe\""
   ]
  },
  {
   "cell_type": "code",
   "execution_count": 4,
   "id": "e9ef6495",
   "metadata": {},
   "outputs": [],
   "source": [
    "def get_driver():\n",
    "    driver = webdriver.Chrome(path)\n",
    "    return driver\n",
    "\n",
    "def get_videos(driver):\n",
    "    driver.get(YOUTUBE_TRENDING_URL)\n",
    "    \n",
    "    VIDEO_DIV_TAG = \"ytd-video-renderer\"\n",
    "    videos = driver.find_elements(By.TAG_NAME,VIDEO_DIV_TAG)\n",
    "    return videos"
   ]
  },
  {
   "cell_type": "code",
   "execution_count": 13,
   "id": "8892dc1f",
   "metadata": {
    "collapsed": true
   },
   "outputs": [
    {
     "name": "stderr",
     "output_type": "stream",
     "text": [
      "C:\\Users\\saura\\AppData\\Local\\Temp\\ipykernel_20572\\1423667494.py:2: DeprecationWarning: executable_path has been deprecated, please pass in a Service object\n",
      "  driver = webdriver.Chrome(path)\n"
     ]
    },
    {
     "name": "stdout",
     "output_type": "stream",
     "text": [
      "fectching trending videos \n",
      "found 96 videos\n",
      "parsing top 10 videos\n",
      "[{'title': 'CAPTAIN New Released Full Hindi Dubbed Movie | Arya, Aishwarya Lekshmi | South Movie Hindi Dub New', 'url': 'https://www.youtube.com/watch?v=NNYp-IwHS7c', 'channel': 'RKD Studios', 'description': <selenium.webdriver.remote.webelement.WebElement (session=\"36c288a38700162d0b6e0864fdb7c3e3\", element=\"a086bd6e-d1b3-4863-8004-be40fe64cdb7\")>, 'thumbnail_url': 'https://i.ytimg.com/vi/NNYp-IwHS7c/hqdefault.jpg?sqp=-oaymwEcCNACELwBSFXyq4qpAw4IARUAAIhCGAFwAcABBg==&rs=AOn4CLAJ3mMD4pog5m1H6Qxz9R4p3WmLug', 'views': '6.3M  ', 'uploded': '1 day ago'}, {'title': 'Going to a Rich Wedding For The First Time', 'url': 'https://www.youtube.com/watch?v=G2XJxT0Xzzk', 'channel': 'Slayy Point', 'description': <selenium.webdriver.remote.webelement.WebElement (session=\"36c288a38700162d0b6e0864fdb7c3e3\", element=\"71663df6-1e50-4f9e-bc58-b29360de82d4\")>, 'thumbnail_url': 'https://i.ytimg.com/vi/G2XJxT0Xzzk/hqdefault.jpg?sqp=-oaymwEcCNACELwBSFXyq4qpAw4IARUAAIhCGAFwAcABBg==&rs=AOn4CLDXfAXdL8sB6pcwTX-Csg6q8GGesw', 'views': '1.7M  ', 'uploded': '16 hours ago'}, {'title': 'Chikne Hawaldar | Part 1 | Vinayak Mali Comedy', 'url': 'https://www.youtube.com/watch?v=hZcAfGaw3RQ', 'channel': 'Vinayak Mali', 'description': <selenium.webdriver.remote.webelement.WebElement (session=\"36c288a38700162d0b6e0864fdb7c3e3\", element=\"37d9fd94-20d8-4adc-8bdb-d2edc3377097\")>, 'thumbnail_url': None, 'views': '837K  ', 'uploded': '1 day ago'}, {'title': 'रंग माझा वेगळा - महाएपिसोड | १४ वर्षांचा वनवास दाखवणार, रंग बदलत्या नात्यांचा...| Star Pravah', 'url': 'https://www.youtube.com/watch?v=fYpFOCMP_cY', 'channel': 'Star Pravah', 'description': <selenium.webdriver.remote.webelement.WebElement (session=\"36c288a38700162d0b6e0864fdb7c3e3\", element=\"0754c955-b7c2-4636-91d9-a690698371f2\")>, 'thumbnail_url': None, 'views': '495K  ', 'uploded': '2 days ago'}, {'title': 'Kundali Bhagya - कुंडली भाग्य - Pre-Leap Promo - Everyday, 9:30 PM - Zee TV', 'url': 'https://www.youtube.com/watch?v=Wn_1jWlFkQo', 'channel': 'Zee TV', 'description': <selenium.webdriver.remote.webelement.WebElement (session=\"36c288a38700162d0b6e0864fdb7c3e3\", element=\"239db5aa-c7e6-4a6c-a06e-5aeb160ae07e\")>, 'thumbnail_url': None, 'views': '3.4M  ', 'uploded': '2 days ago'}, {'title': 'Health Anxiety - Standup Comedy by Abhishek Upmanyu (Full Special on YT)', 'url': 'https://www.youtube.com/watch?v=_fWyWcZB7VA', 'channel': 'Abhishek Upmanyu', 'description': <selenium.webdriver.remote.webelement.WebElement (session=\"36c288a38700162d0b6e0864fdb7c3e3\", element=\"28461b51-e03e-4b33-8446-75aa148709c2\")>, 'thumbnail_url': None, 'views': '6.3M  ', 'uploded': '3 days ago'}, {'title': 'My Porsche Grand Delivery | Elvish Yadav', 'url': 'https://www.youtube.com/watch?v=GlrxlE-dsIo', 'channel': 'Elvish yadav', 'description': <selenium.webdriver.remote.webelement.WebElement (session=\"36c288a38700162d0b6e0864fdb7c3e3\", element=\"92b923d9-301b-406f-9a9e-9a3e2ed0fb98\")>, 'thumbnail_url': None, 'views': '1.4M  ', 'uploded': '1 day ago'}, {'title': 'Kasba Chinchwad Bypoll: कसबा,चिंचवडची बाजी कोण मारणार? ज्येष्ठ पत्रकारांनी मांडलेले हे अंदाज', 'url': 'https://www.youtube.com/watch?v=l4fNXzsIanU', 'channel': 'Mumbai Tak', 'description': <selenium.webdriver.remote.webelement.WebElement (session=\"36c288a38700162d0b6e0864fdb7c3e3\", element=\"8ef78192-eb38-4c86-80bd-e7e8007195f1\")>, 'thumbnail_url': None, 'views': '280K  ', 'uploded': '1 day ago'}, {'title': 'Mujhe Pyaar Hua Tha Ep 12 | Digitally Presented by Surf Excel & Glow & Lovely - 27th February 2023', 'url': 'https://www.youtube.com/watch?v=PvA-LnfbWNs', 'channel': 'ARY Digital HD', 'description': <selenium.webdriver.remote.webelement.WebElement (session=\"36c288a38700162d0b6e0864fdb7c3e3\", element=\"0be15605-8317-4647-ac47-54176d30237a\")>, 'thumbnail_url': None, 'views': '4.1M  ', 'uploded': '13 hours ago'}, {'title': '#Video | हमार बाड़े पती | Hamar Bade Pati | #Khesari Lal Yadav | #Shilpi Raj | #Bhojpuri Holi Song', 'url': 'https://www.youtube.com/watch?v=4YxwCJ3lqzI', 'channel': 'Saregama Hum Bhojpuri', 'description': <selenium.webdriver.remote.webelement.WebElement (session=\"36c288a38700162d0b6e0864fdb7c3e3\", element=\"b6a86d90-18df-46bf-852e-eaeed82eb295\")>, 'thumbnail_url': None, 'views': '3.1M  ', 'uploded': '1 day ago'}]\n"
     ]
    }
   ],
   "source": [
    "def parse_video(video):\n",
    "    \n",
    "    title_tag = video.find_element(By.ID, 'video-title')\n",
    "    title = title_tag.text\n",
    "    \n",
    "    url = title_tag.get_attribute('href')\n",
    "    \n",
    "    thumbnail_tag = video.find_element(By.TAG_NAME,'img')\n",
    "    thumbnail_url = thumbnail_tag.get_attribute('src')\n",
    "    \n",
    "    channel_div = video.find_element(By.CLASS_NAME,'style-scope ytd-channel-name')\n",
    "    channel_name = channel_div.text\n",
    "    \n",
    "    \n",
    "    metadata_line = video.find_element(By.ID,'metadata-line')\n",
    "    metadata_spans = metadata_line.find_elements(By.TAG_NAME,'span')\n",
    "    views = metadata_spans[0].text.replace('views',' ')\n",
    "    uploded = metadata_spans[1].text\n",
    "\n",
    "    description = video.find_element(By.ID,'description-text')\n",
    "\n",
    "    return { \n",
    "      'title': title, \n",
    "      'url': url, \n",
    "      'channel': channel_name,\n",
    "      'description': description,\n",
    "      'thumbnail_url': thumbnail_url,\n",
    "      'views': views,\n",
    "      'uploded':uploded\n",
    "     }\n",
    "\n",
    "\n",
    "if __name__ == \"__main__\":\n",
    "    \n",
    " #   driver = get_driver()\n",
    "    \n",
    "#  print('fectching trending videos ')\n",
    "#   videos = get_videos(driver)\n",
    "    \n",
    "#    print(f'found {len(videos)} videos')\n",
    "    \n",
    "#    print('parsing top 10 videos')\n",
    "    \n",
    " #   videos_data = [parse_video(video) for video in videos[:10]]\n",
    "  #  print(videos_data)\n",
    "    \n",
    "    \n",
    "  \n"
   ]
  },
  {
   "cell_type": "code",
   "execution_count": 14,
   "id": "5475a1cc",
   "metadata": {
    "collapsed": true
   },
   "outputs": [
    {
     "name": "stdout",
     "output_type": "stream",
     "text": [
      "                                               title  \\\n",
      "0  CAPTAIN New Released Full Hindi Dubbed Movie |...   \n",
      "1         Going to a Rich Wedding For The First Time   \n",
      "2     Chikne Hawaldar | Part 1 | Vinayak Mali Comedy   \n",
      "3  रंग माझा वेगळा - महाएपिसोड | १४ वर्षांचा वनवास...   \n",
      "4  Kundali Bhagya - कुंडली भाग्य - Pre-Leap Promo...   \n",
      "5  Health Anxiety - Standup Comedy by Abhishek Up...   \n",
      "6           My Porsche Grand Delivery | Elvish Yadav   \n",
      "7  Kasba Chinchwad Bypoll: कसबा,चिंचवडची बाजी कोण...   \n",
      "8  Mujhe Pyaar Hua Tha Ep 12 | Digitally Presente...   \n",
      "9  #Video | हमार बाड़े पती | Hamar Bade Pati | #K...   \n",
      "\n",
      "                                           url                channel  \\\n",
      "0  https://www.youtube.com/watch?v=NNYp-IwHS7c            RKD Studios   \n",
      "1  https://www.youtube.com/watch?v=G2XJxT0Xzzk            Slayy Point   \n",
      "2  https://www.youtube.com/watch?v=hZcAfGaw3RQ           Vinayak Mali   \n",
      "3  https://www.youtube.com/watch?v=fYpFOCMP_cY            Star Pravah   \n",
      "4  https://www.youtube.com/watch?v=Wn_1jWlFkQo                 Zee TV   \n",
      "5  https://www.youtube.com/watch?v=_fWyWcZB7VA       Abhishek Upmanyu   \n",
      "6  https://www.youtube.com/watch?v=GlrxlE-dsIo           Elvish yadav   \n",
      "7  https://www.youtube.com/watch?v=l4fNXzsIanU             Mumbai Tak   \n",
      "8  https://www.youtube.com/watch?v=PvA-LnfbWNs         ARY Digital HD   \n",
      "9  https://www.youtube.com/watch?v=4YxwCJ3lqzI  Saregama Hum Bhojpuri   \n",
      "\n",
      "                                         description  \\\n",
      "0  <selenium.webdriver.remote.webelement.WebEleme...   \n",
      "1  <selenium.webdriver.remote.webelement.WebEleme...   \n",
      "2  <selenium.webdriver.remote.webelement.WebEleme...   \n",
      "3  <selenium.webdriver.remote.webelement.WebEleme...   \n",
      "4  <selenium.webdriver.remote.webelement.WebEleme...   \n",
      "5  <selenium.webdriver.remote.webelement.WebEleme...   \n",
      "6  <selenium.webdriver.remote.webelement.WebEleme...   \n",
      "7  <selenium.webdriver.remote.webelement.WebEleme...   \n",
      "8  <selenium.webdriver.remote.webelement.WebEleme...   \n",
      "9  <selenium.webdriver.remote.webelement.WebEleme...   \n",
      "\n",
      "                                       thumbnail_url   views       uploded  \n",
      "0  https://i.ytimg.com/vi/NNYp-IwHS7c/hqdefault.j...  6.3M       1 day ago  \n",
      "1  https://i.ytimg.com/vi/G2XJxT0Xzzk/hqdefault.j...  1.7M    16 hours ago  \n",
      "2                                               None  837K       1 day ago  \n",
      "3                                               None  495K      2 days ago  \n",
      "4                                               None  3.4M      2 days ago  \n",
      "5                                               None  6.3M      3 days ago  \n",
      "6                                               None  1.4M       1 day ago  \n",
      "7                                               None  280K       1 day ago  \n",
      "8                                               None  4.1M    13 hours ago  \n",
      "9                                               None  3.1M       1 day ago  \n"
     ]
    }
   ],
   "source": [
    "videos_df = pd.DataFrame(videos_data)\n",
    "print(videos_df)\n",
    "\n",
    "videos_df.to_csv('youtube_trending.csv',index=None)"
   ]
  },
  {
   "cell_type": "code",
   "execution_count": 7,
   "id": "0966f1b2",
   "metadata": {},
   "outputs": [],
   "source": [
    "def send_email():\n",
    "    try:\n",
    "        server_ssl = smtplib.SMTP_SSL('smtp.gmail.com', 465)\n",
    "        server_ssl.ehlo() \n",
    "        \n",
    "        Sender_email = 'demo04949@gmail.com'\n",
    "        Receiver_email = 'demo04949@gmail.com'\n",
    "        \n",
    "    \n",
    "        subject = 'text msg from jupyter notebook'\n",
    "        body = 'Hey, this is msg is sent by jupyter notebook'\n",
    "\n",
    "        email_text = \"\"\"\\\n",
    "        From:{Sender_email}\n",
    "        To: {Receiver_email}\n",
    "        Subject:{subject}\n",
    "\n",
    "        {body}\n",
    "        \"\"\"\n",
    "        server.login(Sender_email,password)\n",
    "      \n",
    "      except:\n",
    "        print('Something went wrong...')"
   ]
  },
  {
   "cell_type": "code",
   "execution_count": 8,
   "id": "723452b6",
   "metadata": {},
   "outputs": [
    {
     "name": "stdout",
     "output_type": "stream",
     "text": [
      "send an email\n"
     ]
    }
   ],
   "source": [
    "print('send an email')\n",
    "send_email()"
   ]
  },
  {
   "cell_type": "code",
   "execution_count": 10,
   "id": "9bc182a8",
   "metadata": {},
   "outputs": [
    {
     "name": "stdout",
     "output_type": "stream",
     "text": [
      "········\n"
     ]
    }
   ],
   "source": [
    "password = getpass.getpass()"
   ]
  },
  {
   "cell_type": "code",
   "execution_count": 11,
   "id": "544c0fcd",
   "metadata": {},
   "outputs": [
    {
     "name": "stdout",
     "output_type": "stream",
     "text": [
      "trend@2002\n"
     ]
    }
   ],
   "source": [
    "print(password)"
   ]
  },
  {
   "cell_type": "code",
   "execution_count": null,
   "id": "3d7dd1eb",
   "metadata": {},
   "outputs": [],
   "source": []
  }
 ],
 "metadata": {
  "kernelspec": {
   "display_name": "Python 3 (ipykernel)",
   "language": "python",
   "name": "python3"
  },
  "language_info": {
   "codemirror_mode": {
    "name": "ipython",
    "version": 3
   },
   "file_extension": ".py",
   "mimetype": "text/x-python",
   "name": "python",
   "nbconvert_exporter": "python",
   "pygments_lexer": "ipython3",
   "version": "3.9.13"
  }
 },
 "nbformat": 4,
 "nbformat_minor": 5
}
